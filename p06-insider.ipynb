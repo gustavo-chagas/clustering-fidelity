{
 "cells": [
  {
   "cell_type": "markdown",
   "id": "ea13f80c",
   "metadata": {
    "heading_collapsed": true
   },
   "source": [
    "# 0.0 IMPORTS"
   ]
  },
  {
   "cell_type": "code",
   "execution_count": 1,
   "id": "7c4489c2",
   "metadata": {
    "ExecuteTime": {
     "end_time": "2022-10-25T21:48:43.485948Z",
     "start_time": "2022-10-25T21:48:14.357456Z"
    },
    "hidden": true
   },
   "outputs": [],
   "source": [
    "import pandas as pd\n",
    "import numpy as np\n",
    "import re\n",
    "from IPython.display import HTML, display\n",
    "import warnings\n",
    "from matplotlib import pyplot as plt\n",
    "from pandas_profiling import ProfileReport\n",
    "from sklearn import cluster as c\n",
    "from sklearn import metrics as met\n",
    "from sklearn import preprocessing as pp\n",
    "from yellowbrick.cluster import KElbowVisualizer, SilhouetteVisualizer\n",
    "from plotly import express as px\n",
    "import seaborn as sns\n",
    "import umap.umap_ as umap"
   ]
  },
  {
   "cell_type": "markdown",
   "id": "1f664326",
   "metadata": {
    "heading_collapsed": true,
    "hidden": true
   },
   "source": [
    "## 0.1 HELPER FUNCTIONS"
   ]
  },
  {
   "cell_type": "code",
   "execution_count": 2,
   "id": "2bd22853",
   "metadata": {
    "ExecuteTime": {
     "end_time": "2022-10-25T21:48:43.542811Z",
     "start_time": "2022-10-25T21:48:43.491012Z"
    },
    "hidden": true
   },
   "outputs": [
    {
     "data": {
      "text/html": [
       "<style>.container { width:100% !important; }</style>"
      ],
      "text/plain": [
       "<IPython.core.display.HTML object>"
      ]
     },
     "metadata": {},
     "output_type": "display_data"
    }
   ],
   "source": [
    "def jupyter_settings():\n",
    "    display( HTML( '<style>.container { width:100% !important; }</style>') )\n",
    "    pd.options.display.max_columns = None\n",
    "    pd.options.display.max_rows = None\n",
    "    pd.set_option( 'display.expand_frame_repr', False )\n",
    "\n",
    "jupyter_settings();\n",
    "warnings.filterwarnings(\"ignore\");"
   ]
  },
  {
   "cell_type": "markdown",
   "id": "a760f180",
   "metadata": {
    "heading_collapsed": true,
    "hidden": true
   },
   "source": [
    "## 0.2 LOADING DATA "
   ]
  },
  {
   "cell_type": "code",
   "execution_count": 3,
   "id": "1fd0be09",
   "metadata": {
    "ExecuteTime": {
     "end_time": "2022-10-25T21:48:46.157528Z",
     "start_time": "2022-10-25T21:48:43.547842Z"
    },
    "hidden": true
   },
   "outputs": [],
   "source": [
    "df_raw = pd.read_csv('dataset/Ecommerce.csv',encoding='mbcs')"
   ]
  },
  {
   "cell_type": "markdown",
   "id": "56c22c82",
   "metadata": {
    "heading_collapsed": true
   },
   "source": [
    "# 1.0 DATA DESCRIPTION"
   ]
  },
  {
   "cell_type": "code",
   "execution_count": 4,
   "id": "4385cfdb",
   "metadata": {
    "ExecuteTime": {
     "end_time": "2022-10-25T21:48:46.224075Z",
     "start_time": "2022-10-25T21:48:46.162220Z"
    },
    "hidden": true
   },
   "outputs": [],
   "source": [
    "df1 = df_raw.copy()"
   ]
  },
  {
   "cell_type": "markdown",
   "id": "c5064ab6",
   "metadata": {
    "hidden": true
   },
   "source": [
    "## 1.1 DATA DIMENSIONS"
   ]
  },
  {
   "cell_type": "code",
   "execution_count": 5,
   "id": "a5a03237",
   "metadata": {
    "ExecuteTime": {
     "end_time": "2022-10-25T21:48:46.255424Z",
     "start_time": "2022-10-25T21:48:46.228590Z"
    },
    "hidden": true
   },
   "outputs": [
    {
     "name": "stdout",
     "output_type": "stream",
     "text": [
      "Rows: 541909\n",
      "Columns: 9\n"
     ]
    }
   ],
   "source": [
    "print('Rows: {}'.format(df1.shape[0]))\n",
    "print('Columns: {}'.format(df1.shape[1]))"
   ]
  },
  {
   "cell_type": "markdown",
   "id": "02e3d0eb",
   "metadata": {
    "hidden": true
   },
   "source": [
    "## 1.2 DATA TYPES"
   ]
  },
  {
   "cell_type": "code",
   "execution_count": 6,
   "id": "113f45fb",
   "metadata": {
    "ExecuteTime": {
     "end_time": "2022-10-25T21:48:46.285938Z",
     "start_time": "2022-10-25T21:48:46.259545Z"
    },
    "hidden": true
   },
   "outputs": [
    {
     "data": {
      "text/plain": [
       "InvoiceNo       object\n",
       "StockCode       object\n",
       "Description     object\n",
       "Quantity         int64\n",
       "InvoiceDate     object\n",
       "UnitPrice      float64\n",
       "CustomerID     float64\n",
       "Country         object\n",
       "Unnamed: 8     float64\n",
       "dtype: object"
      ]
     },
     "execution_count": 6,
     "metadata": {},
     "output_type": "execute_result"
    }
   ],
   "source": [
    "df1.dtypes"
   ]
  },
  {
   "cell_type": "code",
   "execution_count": 7,
   "id": "d3000a95",
   "metadata": {
    "ExecuteTime": {
     "end_time": "2022-10-25T21:48:46.347010Z",
     "start_time": "2022-10-25T21:48:46.293913Z"
    },
    "hidden": true
   },
   "outputs": [
    {
     "data": {
      "text/html": [
       "<div>\n",
       "<style scoped>\n",
       "    .dataframe tbody tr th:only-of-type {\n",
       "        vertical-align: middle;\n",
       "    }\n",
       "\n",
       "    .dataframe tbody tr th {\n",
       "        vertical-align: top;\n",
       "    }\n",
       "\n",
       "    .dataframe thead th {\n",
       "        text-align: right;\n",
       "    }\n",
       "</style>\n",
       "<table border=\"1\" class=\"dataframe\">\n",
       "  <thead>\n",
       "    <tr style=\"text-align: right;\">\n",
       "      <th></th>\n",
       "      <th>InvoiceNo</th>\n",
       "      <th>StockCode</th>\n",
       "      <th>Description</th>\n",
       "      <th>Quantity</th>\n",
       "      <th>InvoiceDate</th>\n",
       "      <th>UnitPrice</th>\n",
       "      <th>CustomerID</th>\n",
       "      <th>Country</th>\n",
       "      <th>Unnamed: 8</th>\n",
       "    </tr>\n",
       "  </thead>\n",
       "  <tbody>\n",
       "    <tr>\n",
       "      <th>0</th>\n",
       "      <td>536365</td>\n",
       "      <td>85123A</td>\n",
       "      <td>WHITE HANGING HEART T-LIGHT HOLDER</td>\n",
       "      <td>6</td>\n",
       "      <td>29-Nov-16</td>\n",
       "      <td>2.55</td>\n",
       "      <td>17850.0</td>\n",
       "      <td>United Kingdom</td>\n",
       "      <td>NaN</td>\n",
       "    </tr>\n",
       "    <tr>\n",
       "      <th>1</th>\n",
       "      <td>536365</td>\n",
       "      <td>71053</td>\n",
       "      <td>WHITE METAL LANTERN</td>\n",
       "      <td>6</td>\n",
       "      <td>29-Nov-16</td>\n",
       "      <td>3.39</td>\n",
       "      <td>17850.0</td>\n",
       "      <td>United Kingdom</td>\n",
       "      <td>NaN</td>\n",
       "    </tr>\n",
       "    <tr>\n",
       "      <th>2</th>\n",
       "      <td>536365</td>\n",
       "      <td>84406B</td>\n",
       "      <td>CREAM CUPID HEARTS COAT HANGER</td>\n",
       "      <td>8</td>\n",
       "      <td>29-Nov-16</td>\n",
       "      <td>2.75</td>\n",
       "      <td>17850.0</td>\n",
       "      <td>United Kingdom</td>\n",
       "      <td>NaN</td>\n",
       "    </tr>\n",
       "    <tr>\n",
       "      <th>3</th>\n",
       "      <td>536365</td>\n",
       "      <td>84029G</td>\n",
       "      <td>KNITTED UNION FLAG HOT WATER BOTTLE</td>\n",
       "      <td>6</td>\n",
       "      <td>29-Nov-16</td>\n",
       "      <td>3.39</td>\n",
       "      <td>17850.0</td>\n",
       "      <td>United Kingdom</td>\n",
       "      <td>NaN</td>\n",
       "    </tr>\n",
       "    <tr>\n",
       "      <th>4</th>\n",
       "      <td>536365</td>\n",
       "      <td>84029E</td>\n",
       "      <td>RED WOOLLY HOTTIE WHITE HEART.</td>\n",
       "      <td>6</td>\n",
       "      <td>29-Nov-16</td>\n",
       "      <td>3.39</td>\n",
       "      <td>17850.0</td>\n",
       "      <td>United Kingdom</td>\n",
       "      <td>NaN</td>\n",
       "    </tr>\n",
       "  </tbody>\n",
       "</table>\n",
       "</div>"
      ],
      "text/plain": [
       "  InvoiceNo StockCode                          Description  Quantity InvoiceDate  UnitPrice  CustomerID         Country  Unnamed: 8\n",
       "0    536365    85123A   WHITE HANGING HEART T-LIGHT HOLDER         6   29-Nov-16       2.55     17850.0  United Kingdom         NaN\n",
       "1    536365     71053                  WHITE METAL LANTERN         6   29-Nov-16       3.39     17850.0  United Kingdom         NaN\n",
       "2    536365    84406B       CREAM CUPID HEARTS COAT HANGER         8   29-Nov-16       2.75     17850.0  United Kingdom         NaN\n",
       "3    536365    84029G  KNITTED UNION FLAG HOT WATER BOTTLE         6   29-Nov-16       3.39     17850.0  United Kingdom         NaN\n",
       "4    536365    84029E       RED WOOLLY HOTTIE WHITE HEART.         6   29-Nov-16       3.39     17850.0  United Kingdom         NaN"
      ]
     },
     "execution_count": 7,
     "metadata": {},
     "output_type": "execute_result"
    }
   ],
   "source": [
    "df1.head()"
   ]
  },
  {
   "cell_type": "code",
   "execution_count": 8,
   "id": "f3896754",
   "metadata": {
    "ExecuteTime": {
     "end_time": "2022-10-25T21:48:47.237414Z",
     "start_time": "2022-10-25T21:48:46.348565Z"
    },
    "hidden": true
   },
   "outputs": [],
   "source": [
    "df1['InvoiceDate'] = pd.to_datetime(df1['InvoiceDate']).dt.date\n",
    "df1 = df1.drop('Unnamed: 8',axis=1)"
   ]
  },
  {
   "cell_type": "code",
   "execution_count": 9,
   "id": "58dd10c7",
   "metadata": {
    "ExecuteTime": {
     "end_time": "2022-10-25T21:48:47.285999Z",
     "start_time": "2022-10-25T21:48:47.237414Z"
    },
    "hidden": true
   },
   "outputs": [
    {
     "data": {
      "text/html": [
       "<div>\n",
       "<style scoped>\n",
       "    .dataframe tbody tr th:only-of-type {\n",
       "        vertical-align: middle;\n",
       "    }\n",
       "\n",
       "    .dataframe tbody tr th {\n",
       "        vertical-align: top;\n",
       "    }\n",
       "\n",
       "    .dataframe thead th {\n",
       "        text-align: right;\n",
       "    }\n",
       "</style>\n",
       "<table border=\"1\" class=\"dataframe\">\n",
       "  <thead>\n",
       "    <tr style=\"text-align: right;\">\n",
       "      <th></th>\n",
       "      <th>InvoiceNo</th>\n",
       "      <th>StockCode</th>\n",
       "      <th>Description</th>\n",
       "      <th>Quantity</th>\n",
       "      <th>InvoiceDate</th>\n",
       "      <th>UnitPrice</th>\n",
       "      <th>CustomerID</th>\n",
       "      <th>Country</th>\n",
       "    </tr>\n",
       "  </thead>\n",
       "  <tbody>\n",
       "    <tr>\n",
       "      <th>0</th>\n",
       "      <td>536365</td>\n",
       "      <td>85123A</td>\n",
       "      <td>WHITE HANGING HEART T-LIGHT HOLDER</td>\n",
       "      <td>6</td>\n",
       "      <td>2016-11-29</td>\n",
       "      <td>2.55</td>\n",
       "      <td>17850.0</td>\n",
       "      <td>United Kingdom</td>\n",
       "    </tr>\n",
       "    <tr>\n",
       "      <th>1</th>\n",
       "      <td>536365</td>\n",
       "      <td>71053</td>\n",
       "      <td>WHITE METAL LANTERN</td>\n",
       "      <td>6</td>\n",
       "      <td>2016-11-29</td>\n",
       "      <td>3.39</td>\n",
       "      <td>17850.0</td>\n",
       "      <td>United Kingdom</td>\n",
       "    </tr>\n",
       "    <tr>\n",
       "      <th>2</th>\n",
       "      <td>536365</td>\n",
       "      <td>84406B</td>\n",
       "      <td>CREAM CUPID HEARTS COAT HANGER</td>\n",
       "      <td>8</td>\n",
       "      <td>2016-11-29</td>\n",
       "      <td>2.75</td>\n",
       "      <td>17850.0</td>\n",
       "      <td>United Kingdom</td>\n",
       "    </tr>\n",
       "    <tr>\n",
       "      <th>3</th>\n",
       "      <td>536365</td>\n",
       "      <td>84029G</td>\n",
       "      <td>KNITTED UNION FLAG HOT WATER BOTTLE</td>\n",
       "      <td>6</td>\n",
       "      <td>2016-11-29</td>\n",
       "      <td>3.39</td>\n",
       "      <td>17850.0</td>\n",
       "      <td>United Kingdom</td>\n",
       "    </tr>\n",
       "    <tr>\n",
       "      <th>4</th>\n",
       "      <td>536365</td>\n",
       "      <td>84029E</td>\n",
       "      <td>RED WOOLLY HOTTIE WHITE HEART.</td>\n",
       "      <td>6</td>\n",
       "      <td>2016-11-29</td>\n",
       "      <td>3.39</td>\n",
       "      <td>17850.0</td>\n",
       "      <td>United Kingdom</td>\n",
       "    </tr>\n",
       "  </tbody>\n",
       "</table>\n",
       "</div>"
      ],
      "text/plain": [
       "  InvoiceNo StockCode                          Description  Quantity InvoiceDate  UnitPrice  CustomerID         Country\n",
       "0    536365    85123A   WHITE HANGING HEART T-LIGHT HOLDER         6  2016-11-29       2.55     17850.0  United Kingdom\n",
       "1    536365     71053                  WHITE METAL LANTERN         6  2016-11-29       3.39     17850.0  United Kingdom\n",
       "2    536365    84406B       CREAM CUPID HEARTS COAT HANGER         8  2016-11-29       2.75     17850.0  United Kingdom\n",
       "3    536365    84029G  KNITTED UNION FLAG HOT WATER BOTTLE         6  2016-11-29       3.39     17850.0  United Kingdom\n",
       "4    536365    84029E       RED WOOLLY HOTTIE WHITE HEART.         6  2016-11-29       3.39     17850.0  United Kingdom"
      ]
     },
     "execution_count": 9,
     "metadata": {},
     "output_type": "execute_result"
    }
   ],
   "source": [
    "df1.head()"
   ]
  },
  {
   "cell_type": "markdown",
   "id": "6979d93f",
   "metadata": {
    "hidden": true
   },
   "source": [
    "## 1.3 CHECKING NA DATA"
   ]
  },
  {
   "cell_type": "code",
   "execution_count": 10,
   "id": "4594ca62",
   "metadata": {
    "ExecuteTime": {
     "end_time": "2022-10-25T21:48:48.466973Z",
     "start_time": "2022-10-25T21:48:47.293990Z"
    },
    "hidden": true
   },
   "outputs": [
    {
     "data": {
      "text/plain": [
       "InvoiceNo           0\n",
       "StockCode           0\n",
       "Description      1454\n",
       "Quantity            0\n",
       "InvoiceDate         0\n",
       "UnitPrice           0\n",
       "CustomerID     135080\n",
       "Country             0\n",
       "dtype: int64"
      ]
     },
     "execution_count": 10,
     "metadata": {},
     "output_type": "execute_result"
    }
   ],
   "source": [
    "df1.isna().sum()"
   ]
  },
  {
   "cell_type": "markdown",
   "id": "81ccff8c",
   "metadata": {
    "hidden": true
   },
   "source": [
    "## 1.4 REPLACING NA "
   ]
  },
  {
   "cell_type": "code",
   "execution_count": 11,
   "id": "0a478630",
   "metadata": {
    "ExecuteTime": {
     "end_time": "2022-10-25T21:48:48.727635Z",
     "start_time": "2022-10-25T21:48:48.475898Z"
    },
    "hidden": true
   },
   "outputs": [
    {
     "name": "stdout",
     "output_type": "stream",
     "text": [
      "(135080, 8)\n",
      "(406829, 8)\n"
     ]
    }
   ],
   "source": [
    "df_missing = df1[df1['CustomerID'].isna()]\n",
    "df_not_missing = df1[~df1['CustomerID'].isna()]\n",
    "print(df_missing.shape)\n",
    "print(df_not_missing.shape)"
   ]
  },
  {
   "cell_type": "code",
   "execution_count": 12,
   "id": "6b7e1c6d",
   "metadata": {
    "ExecuteTime": {
     "end_time": "2022-10-25T21:48:49.485647Z",
     "start_time": "2022-10-25T21:48:48.728650Z"
    },
    "hidden": true
   },
   "outputs": [],
   "source": [
    "df_backup = pd.DataFrame(df_missing['InvoiceNo'].drop_duplicates())\n",
    "df_backup['CustomerID'] = np.arange(19000,19000+len(df_backup),1)\n",
    "\n",
    "df1 = pd.merge(df1,df_backup,on='InvoiceNo',how='left')\n",
    "\n",
    "df1['CustomerID'] = df1['CustomerID_x'].combine_first(df1['CustomerID_y'])\n",
    "df1 = df1.drop(columns=['CustomerID_x','CustomerID_y'])"
   ]
  },
  {
   "cell_type": "code",
   "execution_count": 13,
   "id": "5b0b5924",
   "metadata": {
    "ExecuteTime": {
     "end_time": "2022-10-25T21:48:50.673920Z",
     "start_time": "2022-10-25T21:48:49.492317Z"
    },
    "hidden": true
   },
   "outputs": [
    {
     "data": {
      "text/plain": [
       "InvoiceNo         0\n",
       "StockCode         0\n",
       "Description    1454\n",
       "Quantity          0\n",
       "InvoiceDate       0\n",
       "UnitPrice         0\n",
       "Country           0\n",
       "CustomerID        0\n",
       "dtype: int64"
      ]
     },
     "execution_count": 13,
     "metadata": {},
     "output_type": "execute_result"
    }
   ],
   "source": [
    "df1.isna().sum()"
   ]
  },
  {
   "cell_type": "markdown",
   "id": "eb5987ad",
   "metadata": {
    "hidden": true
   },
   "source": [
    "## 1.5 CHANGING TYPE "
   ]
  },
  {
   "cell_type": "code",
   "execution_count": 14,
   "id": "3c1c9d27",
   "metadata": {
    "ExecuteTime": {
     "end_time": "2022-10-25T21:48:50.718252Z",
     "start_time": "2022-10-25T21:48:50.680552Z"
    },
    "hidden": true
   },
   "outputs": [],
   "source": [
    "df1['CustomerID'] = df1['CustomerID'].astype(int) "
   ]
  },
  {
   "cell_type": "markdown",
   "id": "b8b90397",
   "metadata": {
    "hidden": true
   },
   "source": [
    "## 1.6 DESCRIPTIVE STATISTICS "
   ]
  },
  {
   "cell_type": "code",
   "execution_count": 15,
   "id": "1093b36a",
   "metadata": {
    "ExecuteTime": {
     "end_time": "2022-10-25T21:48:50.877226Z",
     "start_time": "2022-10-25T21:48:50.724643Z"
    },
    "hidden": true
   },
   "outputs": [],
   "source": [
    "num_attributes = df1.select_dtypes(include=['int64','int32','float64'])\n",
    "cat_attributes = df1.select_dtypes(exclude=['int64','float64','datetime64[ns]'])"
   ]
  },
  {
   "cell_type": "markdown",
   "id": "7dcd086e",
   "metadata": {
    "ExecuteTime": {
     "end_time": "2022-10-05T22:10:48.633731Z",
     "start_time": "2022-10-05T22:10:48.606335Z"
    },
    "hidden": true
   },
   "source": [
    "### 1.6.1 NUMERICAL ATTRIBUTES"
   ]
  },
  {
   "cell_type": "code",
   "execution_count": 16,
   "id": "72b3fbd8",
   "metadata": {
    "ExecuteTime": {
     "end_time": "2022-10-25T21:48:51.246216Z",
     "start_time": "2022-10-25T21:48:50.878806Z"
    },
    "hidden": true
   },
   "outputs": [
    {
     "data": {
      "text/html": [
       "<div>\n",
       "<style scoped>\n",
       "    .dataframe tbody tr th:only-of-type {\n",
       "        vertical-align: middle;\n",
       "    }\n",
       "\n",
       "    .dataframe tbody tr th {\n",
       "        vertical-align: top;\n",
       "    }\n",
       "\n",
       "    .dataframe thead th {\n",
       "        text-align: right;\n",
       "    }\n",
       "</style>\n",
       "<table border=\"1\" class=\"dataframe\">\n",
       "  <thead>\n",
       "    <tr style=\"text-align: right;\">\n",
       "      <th></th>\n",
       "      <th>min</th>\n",
       "      <th>max</th>\n",
       "      <th>range</th>\n",
       "      <th>mean</th>\n",
       "      <th>median</th>\n",
       "      <th>std</th>\n",
       "      <th>skew</th>\n",
       "      <th>kurtosis</th>\n",
       "    </tr>\n",
       "  </thead>\n",
       "  <tbody>\n",
       "    <tr>\n",
       "      <th>Quantity</th>\n",
       "      <td>-80995.00</td>\n",
       "      <td>80995.0</td>\n",
       "      <td>161990.00</td>\n",
       "      <td>9.552250</td>\n",
       "      <td>3.00</td>\n",
       "      <td>218.080957</td>\n",
       "      <td>-0.264076</td>\n",
       "      <td>119769.160031</td>\n",
       "    </tr>\n",
       "    <tr>\n",
       "      <th>UnitPrice</th>\n",
       "      <td>-11062.06</td>\n",
       "      <td>38970.0</td>\n",
       "      <td>50032.06</td>\n",
       "      <td>4.611114</td>\n",
       "      <td>2.08</td>\n",
       "      <td>96.759764</td>\n",
       "      <td>186.506972</td>\n",
       "      <td>59005.719097</td>\n",
       "    </tr>\n",
       "    <tr>\n",
       "      <th>CustomerID</th>\n",
       "      <td>12346.00</td>\n",
       "      <td>22709.0</td>\n",
       "      <td>10363.00</td>\n",
       "      <td>16688.840453</td>\n",
       "      <td>16249.00</td>\n",
       "      <td>2911.408666</td>\n",
       "      <td>0.487449</td>\n",
       "      <td>-0.804287</td>\n",
       "    </tr>\n",
       "  </tbody>\n",
       "</table>\n",
       "</div>"
      ],
      "text/plain": [
       "                 min      max      range          mean    median          std        skew       kurtosis\n",
       "Quantity   -80995.00  80995.0  161990.00      9.552250      3.00   218.080957   -0.264076  119769.160031\n",
       "UnitPrice  -11062.06  38970.0   50032.06      4.611114      2.08    96.759764  186.506972   59005.719097\n",
       "CustomerID  12346.00  22709.0   10363.00  16688.840453  16249.00  2911.408666    0.487449      -0.804287"
      ]
     },
     "execution_count": 16,
     "metadata": {},
     "output_type": "execute_result"
    }
   ],
   "source": [
    "#central tendency\n",
    "ct1 = pd.DataFrame(num_attributes.apply(np.mean)).T\n",
    "ct2 = pd.DataFrame(num_attributes.apply(np.median)).T\n",
    "#dispersion\n",
    "d1 = pd.DataFrame(num_attributes.apply(np.std)).T\n",
    "d2 = pd.DataFrame(num_attributes.apply(np.min)).T\n",
    "d3 = pd.DataFrame(num_attributes.apply(np.max)).T\n",
    "d4 = pd.DataFrame(num_attributes.apply(lambda x: x.max()-x.min())).T\n",
    "d5 = pd.DataFrame(num_attributes.apply(lambda x: x.skew())).T\n",
    "d6 = pd.DataFrame(num_attributes.apply(lambda x: x.kurtosis())).T    \n",
    "\n",
    "#concat\n",
    "table = pd.concat([d2,d3,d4,ct1,ct2,d1,d5,d6]).T\n",
    "table.columns = ['min','max','range','mean','median','std','skew','kurtosis']\n",
    "table"
   ]
  },
  {
   "cell_type": "markdown",
   "id": "78cf3e5d",
   "metadata": {
    "ExecuteTime": {
     "end_time": "2022-10-05T22:10:48.633731Z",
     "start_time": "2022-10-05T22:10:48.606335Z"
    },
    "hidden": true
   },
   "source": [
    "### 1.6.2 CATEGORICAL ATTRIBUTES"
   ]
  },
  {
   "cell_type": "code",
   "execution_count": 17,
   "id": "44b75632",
   "metadata": {
    "ExecuteTime": {
     "end_time": "2022-10-25T21:48:53.645913Z",
     "start_time": "2022-10-25T21:48:51.254726Z"
    },
    "hidden": true
   },
   "outputs": [
    {
     "data": {
      "text/plain": [
       "3839"
      ]
     },
     "execution_count": 17,
     "metadata": {},
     "output_type": "execute_result"
    }
   ],
   "source": [
    "len(cat_attributes.loc[cat_attributes['InvoiceNo'].apply(lambda x: bool(re.search('[^0-9]+',str(x)))),'InvoiceNo'].drop_duplicates())"
   ]
  },
  {
   "cell_type": "code",
   "execution_count": 18,
   "id": "a93bd97e",
   "metadata": {
    "ExecuteTime": {
     "end_time": "2022-10-25T21:48:56.135877Z",
     "start_time": "2022-10-25T21:48:53.651877Z"
    },
    "hidden": true
   },
   "outputs": [
    {
     "data": {
      "text/plain": [
       "array(['POST', 'D', 'DOT', 'M', 'S', 'AMAZONFEE', 'm', 'DCGSSBOY',\n",
       "       'DCGSSGIRL', 'PADS', 'B', 'CRUK'], dtype=object)"
      ]
     },
     "execution_count": 18,
     "metadata": {},
     "output_type": "execute_result"
    }
   ],
   "source": [
    "cat_attributes.loc[cat_attributes['StockCode'].apply(lambda x: bool(re.search('^[a-zA-Z]+$',str(x)))),'StockCode'].unique()"
   ]
  },
  {
   "cell_type": "markdown",
   "id": "9de0a37a",
   "metadata": {
    "hidden": true
   },
   "source": [
    "#### Invoice No"
   ]
  },
  {
   "cell_type": "code",
   "execution_count": 19,
   "id": "ff27c307",
   "metadata": {
    "ExecuteTime": {
     "end_time": "2022-10-25T21:48:58.677644Z",
     "start_time": "2022-10-25T21:48:56.144512Z"
    },
    "hidden": true
   },
   "outputs": [
    {
     "data": {
      "text/plain": [
       "9291"
      ]
     },
     "metadata": {},
     "output_type": "display_data"
    },
    {
     "data": {
      "text/plain": [
       "9288"
      ]
     },
     "metadata": {},
     "output_type": "display_data"
    }
   ],
   "source": [
    "df_letter_invoices = df1.loc[df1['InvoiceNo'].apply(lambda x: bool(re.search('[^0-9]+',str(x)))),:]\n",
    "display(len(df_letter_invoices))\n",
    "display(len(df_letter_invoices[df_letter_invoices['Quantity']<0]))"
   ]
  },
  {
   "cell_type": "markdown",
   "id": "72629766",
   "metadata": {
    "hidden": true
   },
   "source": [
    "#### Stock Code"
   ]
  },
  {
   "cell_type": "code",
   "execution_count": 20,
   "id": "cdcc8566",
   "metadata": {
    "ExecuteTime": {
     "end_time": "2022-10-25T21:49:01.147392Z",
     "start_time": "2022-10-25T21:48:58.687058Z"
    },
    "hidden": true
   },
   "outputs": [
    {
     "data": {
      "text/plain": [
       "array(['POST', 'D', 'DOT', 'M', 'S', 'AMAZONFEE', 'm', 'DCGSSBOY',\n",
       "       'DCGSSGIRL', 'PADS', 'B', 'CRUK'], dtype=object)"
      ]
     },
     "execution_count": 20,
     "metadata": {},
     "output_type": "execute_result"
    }
   ],
   "source": [
    "df1.loc[df1['StockCode'].apply(lambda x: bool(re.search('^[a-zA-Z]+$',str(x)))),'StockCode'].unique()"
   ]
  },
  {
   "cell_type": "markdown",
   "id": "5b586c0c",
   "metadata": {
    "hidden": true
   },
   "source": [
    "#### Country"
   ]
  },
  {
   "cell_type": "code",
   "execution_count": 21,
   "id": "d55cf026",
   "metadata": {
    "ExecuteTime": {
     "end_time": "2022-10-25T21:49:01.293486Z",
     "start_time": "2022-10-25T21:49:01.154286Z"
    },
    "hidden": true
   },
   "outputs": [
    {
     "data": {
      "text/plain": [
       "array(['United Kingdom', 'France', 'Australia', 'Netherlands', 'Germany',\n",
       "       'Norway', 'EIRE', 'Switzerland', 'Spain', 'Poland', 'Portugal',\n",
       "       'Italy', 'Belgium', 'Lithuania', 'Japan', 'Iceland',\n",
       "       'Channel Islands', 'Denmark', 'Cyprus', 'Sweden', 'Austria',\n",
       "       'Israel', 'Finland', 'Bahrain', 'Greece', 'Hong Kong', 'Singapore',\n",
       "       'Lebanon', 'United Arab Emirates', 'Saudi Arabia',\n",
       "       'Czech Republic', 'Canada', 'Unspecified', 'Brazil', 'USA',\n",
       "       'European Community', 'Malta', 'RSA'], dtype=object)"
      ]
     },
     "execution_count": 21,
     "metadata": {},
     "output_type": "execute_result"
    }
   ],
   "source": [
    "df1['Country'].unique()"
   ]
  },
  {
   "cell_type": "markdown",
   "id": "3ab74ab3",
   "metadata": {
    "heading_collapsed": true
   },
   "source": [
    "# 2.0 VARIABLE FILTERING"
   ]
  },
  {
   "cell_type": "code",
   "execution_count": 22,
   "id": "b9430b3d",
   "metadata": {
    "ExecuteTime": {
     "end_time": "2022-10-25T21:49:01.357152Z",
     "start_time": "2022-10-25T21:49:01.299312Z"
    },
    "hidden": true
   },
   "outputs": [],
   "source": [
    "df2 = df1.copy()"
   ]
  },
  {
   "cell_type": "code",
   "execution_count": 23,
   "id": "c876ac9e",
   "metadata": {
    "ExecuteTime": {
     "end_time": "2022-10-25T21:49:02.194745Z",
     "start_time": "2022-10-25T21:49:01.357152Z"
    },
    "hidden": true
   },
   "outputs": [],
   "source": [
    "#unit\n",
    "df2 = df2[df2['UnitPrice']>=0.04]\n",
    "#stock code\n",
    "df2 = df2[~df2['StockCode'].isin(['POST', 'D', 'DOT', 'M', 'S', 'AMAZONFEE', 'm', 'DCGSSBOY','DCGSSGIRL', 'PADS', 'B', 'CRUK'])]\n",
    "#description\n",
    "df2 = df2.drop(columns='Description',axis=1)\n",
    "#map\n",
    "df2 = df2[~df2['Country'].isin(['European Community', 'Unspecified'])]\n",
    "#quantity\n",
    "df_returns = df2[df2['Quantity']<0]\n",
    "df_purchase = df2[df2['Quantity']>0]"
   ]
  },
  {
   "cell_type": "markdown",
   "id": "63a7b11a",
   "metadata": {},
   "source": [
    "# 3.0 FEATURE ENGINEERING"
   ]
  },
  {
   "cell_type": "code",
   "execution_count": 53,
   "id": "70470e92",
   "metadata": {
    "ExecuteTime": {
     "end_time": "2022-10-25T22:57:00.277410Z",
     "start_time": "2022-10-25T22:57:00.212109Z"
    }
   },
   "outputs": [],
   "source": [
    "df3 = df2.copy()\n",
    "df3_purchase = df_purchase.copy()\n",
    "df3_returns = df_returns.copy()"
   ]
  },
  {
   "cell_type": "markdown",
   "id": "def918ab",
   "metadata": {},
   "source": [
    "## 3.1 FEATURE CREATION"
   ]
  },
  {
   "cell_type": "code",
   "execution_count": 54,
   "id": "2b8b060d",
   "metadata": {
    "ExecuteTime": {
     "end_time": "2022-10-25T22:57:00.994342Z",
     "start_time": "2022-10-25T22:57:00.974495Z"
    }
   },
   "outputs": [
    {
     "data": {
      "text/html": [
       "<div>\n",
       "<style scoped>\n",
       "    .dataframe tbody tr th:only-of-type {\n",
       "        vertical-align: middle;\n",
       "    }\n",
       "\n",
       "    .dataframe tbody tr th {\n",
       "        vertical-align: top;\n",
       "    }\n",
       "\n",
       "    .dataframe thead th {\n",
       "        text-align: right;\n",
       "    }\n",
       "</style>\n",
       "<table border=\"1\" class=\"dataframe\">\n",
       "  <thead>\n",
       "    <tr style=\"text-align: right;\">\n",
       "      <th></th>\n",
       "      <th>InvoiceNo</th>\n",
       "      <th>StockCode</th>\n",
       "      <th>Quantity</th>\n",
       "      <th>InvoiceDate</th>\n",
       "      <th>UnitPrice</th>\n",
       "      <th>Country</th>\n",
       "      <th>CustomerID</th>\n",
       "    </tr>\n",
       "  </thead>\n",
       "  <tbody>\n",
       "    <tr>\n",
       "      <th>0</th>\n",
       "      <td>536365</td>\n",
       "      <td>85123A</td>\n",
       "      <td>6</td>\n",
       "      <td>2016-11-29</td>\n",
       "      <td>2.55</td>\n",
       "      <td>United Kingdom</td>\n",
       "      <td>17850</td>\n",
       "    </tr>\n",
       "    <tr>\n",
       "      <th>1</th>\n",
       "      <td>536365</td>\n",
       "      <td>71053</td>\n",
       "      <td>6</td>\n",
       "      <td>2016-11-29</td>\n",
       "      <td>3.39</td>\n",
       "      <td>United Kingdom</td>\n",
       "      <td>17850</td>\n",
       "    </tr>\n",
       "    <tr>\n",
       "      <th>2</th>\n",
       "      <td>536365</td>\n",
       "      <td>84406B</td>\n",
       "      <td>8</td>\n",
       "      <td>2016-11-29</td>\n",
       "      <td>2.75</td>\n",
       "      <td>United Kingdom</td>\n",
       "      <td>17850</td>\n",
       "    </tr>\n",
       "    <tr>\n",
       "      <th>3</th>\n",
       "      <td>536365</td>\n",
       "      <td>84029G</td>\n",
       "      <td>6</td>\n",
       "      <td>2016-11-29</td>\n",
       "      <td>3.39</td>\n",
       "      <td>United Kingdom</td>\n",
       "      <td>17850</td>\n",
       "    </tr>\n",
       "    <tr>\n",
       "      <th>4</th>\n",
       "      <td>536365</td>\n",
       "      <td>84029E</td>\n",
       "      <td>6</td>\n",
       "      <td>2016-11-29</td>\n",
       "      <td>3.39</td>\n",
       "      <td>United Kingdom</td>\n",
       "      <td>17850</td>\n",
       "    </tr>\n",
       "  </tbody>\n",
       "</table>\n",
       "</div>"
      ],
      "text/plain": [
       "  InvoiceNo StockCode  Quantity InvoiceDate  UnitPrice         Country  CustomerID\n",
       "0    536365    85123A         6  2016-11-29       2.55  United Kingdom       17850\n",
       "1    536365     71053         6  2016-11-29       3.39  United Kingdom       17850\n",
       "2    536365    84406B         8  2016-11-29       2.75  United Kingdom       17850\n",
       "3    536365    84029G         6  2016-11-29       3.39  United Kingdom       17850\n",
       "4    536365    84029E         6  2016-11-29       3.39  United Kingdom       17850"
      ]
     },
     "execution_count": 54,
     "metadata": {},
     "output_type": "execute_result"
    }
   ],
   "source": [
    "df3.head()"
   ]
  },
  {
   "cell_type": "markdown",
   "id": "9baba411",
   "metadata": {},
   "source": [
    "### 3.1.1 GROSS REVENUE"
   ]
  },
  {
   "cell_type": "code",
   "execution_count": 55,
   "id": "8ccbafe0",
   "metadata": {
    "ExecuteTime": {
     "end_time": "2022-10-25T22:57:01.771406Z",
     "start_time": "2022-10-25T22:57:01.716416Z"
    }
   },
   "outputs": [
    {
     "data": {
      "text/html": [
       "<div>\n",
       "<style scoped>\n",
       "    .dataframe tbody tr th:only-of-type {\n",
       "        vertical-align: middle;\n",
       "    }\n",
       "\n",
       "    .dataframe tbody tr th {\n",
       "        vertical-align: top;\n",
       "    }\n",
       "\n",
       "    .dataframe thead th {\n",
       "        text-align: right;\n",
       "    }\n",
       "</style>\n",
       "<table border=\"1\" class=\"dataframe\">\n",
       "  <thead>\n",
       "    <tr style=\"text-align: right;\">\n",
       "      <th></th>\n",
       "      <th>CustomerID</th>\n",
       "      <th>GrossRevenue</th>\n",
       "    </tr>\n",
       "  </thead>\n",
       "  <tbody>\n",
       "    <tr>\n",
       "      <th>0</th>\n",
       "      <td>12346</td>\n",
       "      <td>0.00</td>\n",
       "    </tr>\n",
       "    <tr>\n",
       "      <th>1</th>\n",
       "      <td>12347</td>\n",
       "      <td>4310.00</td>\n",
       "    </tr>\n",
       "    <tr>\n",
       "      <th>2</th>\n",
       "      <td>12348</td>\n",
       "      <td>1437.24</td>\n",
       "    </tr>\n",
       "    <tr>\n",
       "      <th>3</th>\n",
       "      <td>12349</td>\n",
       "      <td>1457.55</td>\n",
       "    </tr>\n",
       "    <tr>\n",
       "      <th>4</th>\n",
       "      <td>12350</td>\n",
       "      <td>294.40</td>\n",
       "    </tr>\n",
       "  </tbody>\n",
       "</table>\n",
       "</div>"
      ],
      "text/plain": [
       "   CustomerID  GrossRevenue\n",
       "0       12346          0.00\n",
       "1       12347       4310.00\n",
       "2       12348       1437.24\n",
       "3       12349       1457.55\n",
       "4       12350        294.40"
      ]
     },
     "execution_count": 55,
     "metadata": {},
     "output_type": "execute_result"
    }
   ],
   "source": [
    "df3['GrossRevenue'] = df3['Quantity'] * df3['UnitPrice']\n",
    "df_m = df3[['CustomerID','GrossRevenue']].groupby('CustomerID').sum().reset_index()\n",
    "df_m.head()"
   ]
  },
  {
   "cell_type": "markdown",
   "id": "770b139b",
   "metadata": {},
   "source": [
    "### 3.1.2 RECENCY: DAYS FROM LAST PURCHASE"
   ]
  },
  {
   "cell_type": "code",
   "execution_count": 56,
   "id": "e12ea2ec",
   "metadata": {
    "ExecuteTime": {
     "end_time": "2022-10-25T22:57:02.785359Z",
     "start_time": "2022-10-25T22:57:02.317416Z"
    }
   },
   "outputs": [
    {
     "data": {
      "text/html": [
       "<div>\n",
       "<style scoped>\n",
       "    .dataframe tbody tr th:only-of-type {\n",
       "        vertical-align: middle;\n",
       "    }\n",
       "\n",
       "    .dataframe tbody tr th {\n",
       "        vertical-align: top;\n",
       "    }\n",
       "\n",
       "    .dataframe thead th {\n",
       "        text-align: right;\n",
       "    }\n",
       "</style>\n",
       "<table border=\"1\" class=\"dataframe\">\n",
       "  <thead>\n",
       "    <tr style=\"text-align: right;\">\n",
       "      <th></th>\n",
       "      <th>CustomerID</th>\n",
       "      <th>RecencyDays</th>\n",
       "    </tr>\n",
       "  </thead>\n",
       "  <tbody>\n",
       "    <tr>\n",
       "      <th>0</th>\n",
       "      <td>12346</td>\n",
       "      <td>325</td>\n",
       "    </tr>\n",
       "    <tr>\n",
       "      <th>1</th>\n",
       "      <td>12347</td>\n",
       "      <td>2</td>\n",
       "    </tr>\n",
       "    <tr>\n",
       "      <th>2</th>\n",
       "      <td>12348</td>\n",
       "      <td>75</td>\n",
       "    </tr>\n",
       "    <tr>\n",
       "      <th>3</th>\n",
       "      <td>12349</td>\n",
       "      <td>18</td>\n",
       "    </tr>\n",
       "    <tr>\n",
       "      <th>4</th>\n",
       "      <td>12350</td>\n",
       "      <td>310</td>\n",
       "    </tr>\n",
       "  </tbody>\n",
       "</table>\n",
       "</div>"
      ],
      "text/plain": [
       "   CustomerID  RecencyDays\n",
       "0       12346          325\n",
       "1       12347            2\n",
       "2       12348           75\n",
       "3       12349           18\n",
       "4       12350          310"
      ]
     },
     "execution_count": 56,
     "metadata": {},
     "output_type": "execute_result"
    }
   ],
   "source": [
    "df_r = df3_purchase[['CustomerID','InvoiceDate']].groupby('CustomerID').max().reset_index()\n",
    "df_r['RecencyDays'] = (df3_purchase['InvoiceDate'].max()-df_r['InvoiceDate']).dt.days\n",
    "df_r.drop('InvoiceDate',axis=1,inplace=True)\n",
    "df_r.head()"
   ]
  },
  {
   "cell_type": "markdown",
   "id": "fad0cc48",
   "metadata": {},
   "source": [
    "### 3.1.3 QUANTITY OF INVOICES"
   ]
  },
  {
   "cell_type": "code",
   "execution_count": 57,
   "id": "064f0e58",
   "metadata": {
    "ExecuteTime": {
     "end_time": "2022-10-25T22:57:03.109289Z",
     "start_time": "2022-10-25T22:57:03.012783Z"
    }
   },
   "outputs": [
    {
     "data": {
      "text/html": [
       "<div>\n",
       "<style scoped>\n",
       "    .dataframe tbody tr th:only-of-type {\n",
       "        vertical-align: middle;\n",
       "    }\n",
       "\n",
       "    .dataframe tbody tr th {\n",
       "        vertical-align: top;\n",
       "    }\n",
       "\n",
       "    .dataframe thead th {\n",
       "        text-align: right;\n",
       "    }\n",
       "</style>\n",
       "<table border=\"1\" class=\"dataframe\">\n",
       "  <thead>\n",
       "    <tr style=\"text-align: right;\">\n",
       "      <th></th>\n",
       "      <th>CustomerID</th>\n",
       "      <th>InvoiceQty</th>\n",
       "    </tr>\n",
       "  </thead>\n",
       "  <tbody>\n",
       "    <tr>\n",
       "      <th>0</th>\n",
       "      <td>12346</td>\n",
       "      <td>1</td>\n",
       "    </tr>\n",
       "    <tr>\n",
       "      <th>1</th>\n",
       "      <td>12347</td>\n",
       "      <td>7</td>\n",
       "    </tr>\n",
       "    <tr>\n",
       "      <th>2</th>\n",
       "      <td>12348</td>\n",
       "      <td>4</td>\n",
       "    </tr>\n",
       "    <tr>\n",
       "      <th>3</th>\n",
       "      <td>12349</td>\n",
       "      <td>1</td>\n",
       "    </tr>\n",
       "    <tr>\n",
       "      <th>4</th>\n",
       "      <td>12350</td>\n",
       "      <td>1</td>\n",
       "    </tr>\n",
       "  </tbody>\n",
       "</table>\n",
       "</div>"
      ],
      "text/plain": [
       "   CustomerID  InvoiceQty\n",
       "0       12346           1\n",
       "1       12347           7\n",
       "2       12348           4\n",
       "3       12349           1\n",
       "4       12350           1"
      ]
     },
     "execution_count": 57,
     "metadata": {},
     "output_type": "execute_result"
    }
   ],
   "source": [
    "df_q = df3_purchase[['CustomerID','InvoiceNo']].drop_duplicates().groupby('CustomerID').count().reset_index().rename(columns={'InvoiceNo':'InvoiceQty'})\n",
    "df_q.head()"
   ]
  },
  {
   "cell_type": "markdown",
   "id": "0603f3f9",
   "metadata": {},
   "source": [
    "### 3.1.4 QUANTITY OF ITEMS"
   ]
  },
  {
   "cell_type": "code",
   "execution_count": 58,
   "id": "aa00c019",
   "metadata": {
    "ExecuteTime": {
     "end_time": "2022-10-25T22:57:03.732144Z",
     "start_time": "2022-10-25T22:57:03.692511Z"
    }
   },
   "outputs": [
    {
     "data": {
      "text/html": [
       "<div>\n",
       "<style scoped>\n",
       "    .dataframe tbody tr th:only-of-type {\n",
       "        vertical-align: middle;\n",
       "    }\n",
       "\n",
       "    .dataframe tbody tr th {\n",
       "        vertical-align: top;\n",
       "    }\n",
       "\n",
       "    .dataframe thead th {\n",
       "        text-align: right;\n",
       "    }\n",
       "</style>\n",
       "<table border=\"1\" class=\"dataframe\">\n",
       "  <thead>\n",
       "    <tr style=\"text-align: right;\">\n",
       "      <th></th>\n",
       "      <th>CustomerID</th>\n",
       "      <th>ItemQty</th>\n",
       "    </tr>\n",
       "  </thead>\n",
       "  <tbody>\n",
       "    <tr>\n",
       "      <th>0</th>\n",
       "      <td>12346</td>\n",
       "      <td>0</td>\n",
       "    </tr>\n",
       "    <tr>\n",
       "      <th>1</th>\n",
       "      <td>12347</td>\n",
       "      <td>2458</td>\n",
       "    </tr>\n",
       "    <tr>\n",
       "      <th>2</th>\n",
       "      <td>12348</td>\n",
       "      <td>2332</td>\n",
       "    </tr>\n",
       "    <tr>\n",
       "      <th>3</th>\n",
       "      <td>12349</td>\n",
       "      <td>630</td>\n",
       "    </tr>\n",
       "    <tr>\n",
       "      <th>4</th>\n",
       "      <td>12350</td>\n",
       "      <td>196</td>\n",
       "    </tr>\n",
       "  </tbody>\n",
       "</table>\n",
       "</div>"
      ],
      "text/plain": [
       "   CustomerID  ItemQty\n",
       "0       12346        0\n",
       "1       12347     2458\n",
       "2       12348     2332\n",
       "3       12349      630\n",
       "4       12350      196"
      ]
     },
     "execution_count": 58,
     "metadata": {},
     "output_type": "execute_result"
    }
   ],
   "source": [
    "df_qi = df3[['CustomerID','Quantity']].groupby('CustomerID').sum().reset_index().rename(columns={'Quantity':'ItemQty'})\n",
    "df_qi.head()"
   ]
  },
  {
   "cell_type": "markdown",
   "id": "c523a82c",
   "metadata": {},
   "source": [
    "### 3.1.4 QUANTITY OF PRODUCTS"
   ]
  },
  {
   "cell_type": "code",
   "execution_count": 59,
   "id": "41b64330",
   "metadata": {
    "ExecuteTime": {
     "end_time": "2022-10-25T22:57:04.429811Z",
     "start_time": "2022-10-25T22:57:04.332478Z"
    }
   },
   "outputs": [
    {
     "data": {
      "text/html": [
       "<div>\n",
       "<style scoped>\n",
       "    .dataframe tbody tr th:only-of-type {\n",
       "        vertical-align: middle;\n",
       "    }\n",
       "\n",
       "    .dataframe tbody tr th {\n",
       "        vertical-align: top;\n",
       "    }\n",
       "\n",
       "    .dataframe thead th {\n",
       "        text-align: right;\n",
       "    }\n",
       "</style>\n",
       "<table border=\"1\" class=\"dataframe\">\n",
       "  <thead>\n",
       "    <tr style=\"text-align: right;\">\n",
       "      <th></th>\n",
       "      <th>CustomerID</th>\n",
       "      <th>ProductQty</th>\n",
       "    </tr>\n",
       "  </thead>\n",
       "  <tbody>\n",
       "    <tr>\n",
       "      <th>0</th>\n",
       "      <td>12346</td>\n",
       "      <td>1</td>\n",
       "    </tr>\n",
       "    <tr>\n",
       "      <th>1</th>\n",
       "      <td>12347</td>\n",
       "      <td>182</td>\n",
       "    </tr>\n",
       "    <tr>\n",
       "      <th>2</th>\n",
       "      <td>12348</td>\n",
       "      <td>27</td>\n",
       "    </tr>\n",
       "    <tr>\n",
       "      <th>3</th>\n",
       "      <td>12349</td>\n",
       "      <td>72</td>\n",
       "    </tr>\n",
       "    <tr>\n",
       "      <th>4</th>\n",
       "      <td>12350</td>\n",
       "      <td>16</td>\n",
       "    </tr>\n",
       "  </tbody>\n",
       "</table>\n",
       "</div>"
      ],
      "text/plain": [
       "   CustomerID  ProductQty\n",
       "0       12346           1\n",
       "1       12347         182\n",
       "2       12348          27\n",
       "3       12349          72\n",
       "4       12350          16"
      ]
     },
     "execution_count": 59,
     "metadata": {},
     "output_type": "execute_result"
    }
   ],
   "source": [
    "df_qp = df3_purchase[['CustomerID','StockCode']].groupby('CustomerID').count().reset_index().rename(columns={'StockCode':'ProductQty'})\n",
    "df_qp.head()"
   ]
  },
  {
   "cell_type": "markdown",
   "id": "0ee72899",
   "metadata": {},
   "source": [
    "### 3.1.5 AVERAGE TICKET"
   ]
  },
  {
   "cell_type": "code",
   "execution_count": 60,
   "id": "97847770",
   "metadata": {
    "ExecuteTime": {
     "end_time": "2022-10-25T22:57:05.037675Z",
     "start_time": "2022-10-25T22:57:04.997300Z"
    }
   },
   "outputs": [
    {
     "data": {
      "text/html": [
       "<div>\n",
       "<style scoped>\n",
       "    .dataframe tbody tr th:only-of-type {\n",
       "        vertical-align: middle;\n",
       "    }\n",
       "\n",
       "    .dataframe tbody tr th {\n",
       "        vertical-align: top;\n",
       "    }\n",
       "\n",
       "    .dataframe thead th {\n",
       "        text-align: right;\n",
       "    }\n",
       "</style>\n",
       "<table border=\"1\" class=\"dataframe\">\n",
       "  <thead>\n",
       "    <tr style=\"text-align: right;\">\n",
       "      <th></th>\n",
       "      <th>CustomerID</th>\n",
       "      <th>AvgTicket</th>\n",
       "    </tr>\n",
       "  </thead>\n",
       "  <tbody>\n",
       "    <tr>\n",
       "      <th>0</th>\n",
       "      <td>12346</td>\n",
       "      <td>0.000000</td>\n",
       "    </tr>\n",
       "    <tr>\n",
       "      <th>1</th>\n",
       "      <td>12347</td>\n",
       "      <td>23.681319</td>\n",
       "    </tr>\n",
       "    <tr>\n",
       "      <th>2</th>\n",
       "      <td>12348</td>\n",
       "      <td>53.231111</td>\n",
       "    </tr>\n",
       "    <tr>\n",
       "      <th>3</th>\n",
       "      <td>12349</td>\n",
       "      <td>20.243750</td>\n",
       "    </tr>\n",
       "    <tr>\n",
       "      <th>4</th>\n",
       "      <td>12350</td>\n",
       "      <td>18.400000</td>\n",
       "    </tr>\n",
       "  </tbody>\n",
       "</table>\n",
       "</div>"
      ],
      "text/plain": [
       "   CustomerID  AvgTicket\n",
       "0       12346   0.000000\n",
       "1       12347  23.681319\n",
       "2       12348  53.231111\n",
       "3       12349  20.243750\n",
       "4       12350  18.400000"
      ]
     },
     "execution_count": 60,
     "metadata": {},
     "output_type": "execute_result"
    }
   ],
   "source": [
    "df_at=df3[['CustomerID','GrossRevenue']].groupby('CustomerID').mean().reset_index().rename(columns={'GrossRevenue':'AvgTicket'})\n",
    "df_at.head()"
   ]
  },
  {
   "cell_type": "markdown",
   "id": "447b6565",
   "metadata": {},
   "source": [
    "### 3.1.6 NUMBER OF RETURNS"
   ]
  },
  {
   "cell_type": "code",
   "execution_count": 61,
   "id": "2f8ad8ad",
   "metadata": {
    "ExecuteTime": {
     "end_time": "2022-10-25T22:57:05.721582Z",
     "start_time": "2022-10-25T22:57:05.700527Z"
    }
   },
   "outputs": [
    {
     "data": {
      "text/html": [
       "<div>\n",
       "<style scoped>\n",
       "    .dataframe tbody tr th:only-of-type {\n",
       "        vertical-align: middle;\n",
       "    }\n",
       "\n",
       "    .dataframe tbody tr th {\n",
       "        vertical-align: top;\n",
       "    }\n",
       "\n",
       "    .dataframe thead th {\n",
       "        text-align: right;\n",
       "    }\n",
       "</style>\n",
       "<table border=\"1\" class=\"dataframe\">\n",
       "  <thead>\n",
       "    <tr style=\"text-align: right;\">\n",
       "      <th></th>\n",
       "      <th>CustomerID</th>\n",
       "      <th>Returns</th>\n",
       "    </tr>\n",
       "  </thead>\n",
       "  <tbody>\n",
       "    <tr>\n",
       "      <th>0</th>\n",
       "      <td>12346</td>\n",
       "      <td>74215</td>\n",
       "    </tr>\n",
       "    <tr>\n",
       "      <th>1</th>\n",
       "      <td>12352</td>\n",
       "      <td>63</td>\n",
       "    </tr>\n",
       "    <tr>\n",
       "      <th>2</th>\n",
       "      <td>12359</td>\n",
       "      <td>10</td>\n",
       "    </tr>\n",
       "    <tr>\n",
       "      <th>3</th>\n",
       "      <td>12362</td>\n",
       "      <td>17</td>\n",
       "    </tr>\n",
       "    <tr>\n",
       "      <th>4</th>\n",
       "      <td>12375</td>\n",
       "      <td>1</td>\n",
       "    </tr>\n",
       "  </tbody>\n",
       "</table>\n",
       "</div>"
      ],
      "text/plain": [
       "   CustomerID  Returns\n",
       "0       12346    74215\n",
       "1       12352       63\n",
       "2       12359       10\n",
       "3       12362       17\n",
       "4       12375        1"
      ]
     },
     "execution_count": 61,
     "metadata": {},
     "output_type": "execute_result"
    }
   ],
   "source": [
    "df3_returns = df3_returns[['CustomerID','Quantity']].groupby('CustomerID').sum().reset_index().rename(columns={'Quantity':'Returns'})\n",
    "df3_returns['Returns'] = df3_returns['Returns']*-1\n",
    "df3_returns.head()"
   ]
  },
  {
   "cell_type": "markdown",
   "id": "5a9d903b",
   "metadata": {},
   "source": [
    "### 3.1.7 BASKET SIZE"
   ]
  },
  {
   "cell_type": "code",
   "execution_count": 62,
   "id": "bfbf0a0f",
   "metadata": {
    "ExecuteTime": {
     "end_time": "2022-10-25T22:57:06.564444Z",
     "start_time": "2022-10-25T22:57:06.443621Z"
    }
   },
   "outputs": [
    {
     "data": {
      "text/html": [
       "<div>\n",
       "<style scoped>\n",
       "    .dataframe tbody tr th:only-of-type {\n",
       "        vertical-align: middle;\n",
       "    }\n",
       "\n",
       "    .dataframe tbody tr th {\n",
       "        vertical-align: top;\n",
       "    }\n",
       "\n",
       "    .dataframe thead th {\n",
       "        text-align: right;\n",
       "    }\n",
       "</style>\n",
       "<table border=\"1\" class=\"dataframe\">\n",
       "  <thead>\n",
       "    <tr style=\"text-align: right;\">\n",
       "      <th></th>\n",
       "      <th>CustomerID</th>\n",
       "      <th>BasketSize</th>\n",
       "    </tr>\n",
       "  </thead>\n",
       "  <tbody>\n",
       "    <tr>\n",
       "      <th>0</th>\n",
       "      <td>12346</td>\n",
       "      <td>74215.000000</td>\n",
       "    </tr>\n",
       "    <tr>\n",
       "      <th>1</th>\n",
       "      <td>12347</td>\n",
       "      <td>351.142857</td>\n",
       "    </tr>\n",
       "    <tr>\n",
       "      <th>2</th>\n",
       "      <td>12348</td>\n",
       "      <td>583.000000</td>\n",
       "    </tr>\n",
       "    <tr>\n",
       "      <th>3</th>\n",
       "      <td>12349</td>\n",
       "      <td>630.000000</td>\n",
       "    </tr>\n",
       "    <tr>\n",
       "      <th>4</th>\n",
       "      <td>12350</td>\n",
       "      <td>196.000000</td>\n",
       "    </tr>\n",
       "  </tbody>\n",
       "</table>\n",
       "</div>"
      ],
      "text/plain": [
       "   CustomerID    BasketSize\n",
       "0       12346  74215.000000\n",
       "1       12347    351.142857\n",
       "2       12348    583.000000\n",
       "3       12349    630.000000\n",
       "4       12350    196.000000"
      ]
     },
     "execution_count": 62,
     "metadata": {},
     "output_type": "execute_result"
    }
   ],
   "source": [
    "df_aux = (df3_purchase[['CustomerID','InvoiceNo','Quantity']].groupby('CustomerID')\n",
    "                                                            .agg(NPurchase=('InvoiceNo','nunique'),\n",
    "                                                                 NProducts=('Quantity','sum'))\n",
    "                                                            .reset_index())\n",
    "df_aux['BasketSize'] = df_aux['NProducts']/df_aux['NPurchase']\n",
    "df_bs = df_aux[['CustomerID','BasketSize']].copy()\n",
    "df_bs.head()"
   ]
  },
  {
   "cell_type": "markdown",
   "id": "7d7ab0b1",
   "metadata": {},
   "source": [
    "### 3.1.8 UNIQUE BASKET SIZE"
   ]
  },
  {
   "cell_type": "code",
   "execution_count": 63,
   "id": "402d1992",
   "metadata": {
    "ExecuteTime": {
     "end_time": "2022-10-25T22:57:07.314031Z",
     "start_time": "2022-10-25T22:57:07.175565Z"
    }
   },
   "outputs": [
    {
     "data": {
      "text/html": [
       "<div>\n",
       "<style scoped>\n",
       "    .dataframe tbody tr th:only-of-type {\n",
       "        vertical-align: middle;\n",
       "    }\n",
       "\n",
       "    .dataframe tbody tr th {\n",
       "        vertical-align: top;\n",
       "    }\n",
       "\n",
       "    .dataframe thead th {\n",
       "        text-align: right;\n",
       "    }\n",
       "</style>\n",
       "<table border=\"1\" class=\"dataframe\">\n",
       "  <thead>\n",
       "    <tr style=\"text-align: right;\">\n",
       "      <th></th>\n",
       "      <th>CustomerID</th>\n",
       "      <th>UniqueBasketSize</th>\n",
       "    </tr>\n",
       "  </thead>\n",
       "  <tbody>\n",
       "    <tr>\n",
       "      <th>0</th>\n",
       "      <td>12346</td>\n",
       "      <td>1.00</td>\n",
       "    </tr>\n",
       "    <tr>\n",
       "      <th>1</th>\n",
       "      <td>12347</td>\n",
       "      <td>26.00</td>\n",
       "    </tr>\n",
       "    <tr>\n",
       "      <th>2</th>\n",
       "      <td>12348</td>\n",
       "      <td>6.75</td>\n",
       "    </tr>\n",
       "    <tr>\n",
       "      <th>3</th>\n",
       "      <td>12349</td>\n",
       "      <td>72.00</td>\n",
       "    </tr>\n",
       "    <tr>\n",
       "      <th>4</th>\n",
       "      <td>12350</td>\n",
       "      <td>16.00</td>\n",
       "    </tr>\n",
       "  </tbody>\n",
       "</table>\n",
       "</div>"
      ],
      "text/plain": [
       "   CustomerID  UniqueBasketSize\n",
       "0       12346              1.00\n",
       "1       12347             26.00\n",
       "2       12348              6.75\n",
       "3       12349             72.00\n",
       "4       12350             16.00"
      ]
     },
     "execution_count": 63,
     "metadata": {},
     "output_type": "execute_result"
    }
   ],
   "source": [
    "df_aux = (df3_purchase[['CustomerID','InvoiceNo','StockCode']].groupby('CustomerID')\n",
    "                                                              .agg(NPurchase=('InvoiceNo','nunique'),\n",
    "                                                                 NProducts=('StockCode','count'))\n",
    "                                                            .reset_index())\n",
    "df_aux['UniqueBasketSize'] = df_aux['NProducts']/df_aux['NPurchase']\n",
    "df_ubs = df_aux[['CustomerID','UniqueBasketSize']].copy()\n",
    "df_ubs.head()"
   ]
  },
  {
   "cell_type": "markdown",
   "id": "e751a838",
   "metadata": {},
   "source": [
    "### 3.1.9 AVERAGE RECENCY DAYS"
   ]
  },
  {
   "cell_type": "code",
   "execution_count": 64,
   "id": "4fd47cba",
   "metadata": {
    "ExecuteTime": {
     "end_time": "2022-10-25T22:57:09.460702Z",
     "start_time": "2022-10-25T22:57:09.136315Z"
    }
   },
   "outputs": [
    {
     "data": {
      "text/html": [
       "<div>\n",
       "<style scoped>\n",
       "    .dataframe tbody tr th:only-of-type {\n",
       "        vertical-align: middle;\n",
       "    }\n",
       "\n",
       "    .dataframe tbody tr th {\n",
       "        vertical-align: top;\n",
       "    }\n",
       "\n",
       "    .dataframe thead th {\n",
       "        text-align: right;\n",
       "    }\n",
       "</style>\n",
       "<table border=\"1\" class=\"dataframe\">\n",
       "  <thead>\n",
       "    <tr style=\"text-align: right;\">\n",
       "      <th></th>\n",
       "      <th>CustomerID</th>\n",
       "      <th>AvgRecencyDays</th>\n",
       "    </tr>\n",
       "  </thead>\n",
       "  <tbody>\n",
       "    <tr>\n",
       "      <th>0</th>\n",
       "      <td>12347</td>\n",
       "      <td>60.833333</td>\n",
       "    </tr>\n",
       "    <tr>\n",
       "      <th>1</th>\n",
       "      <td>12348</td>\n",
       "      <td>94.333333</td>\n",
       "    </tr>\n",
       "    <tr>\n",
       "      <th>2</th>\n",
       "      <td>12352</td>\n",
       "      <td>43.333333</td>\n",
       "    </tr>\n",
       "    <tr>\n",
       "      <th>3</th>\n",
       "      <td>12356</td>\n",
       "      <td>151.500000</td>\n",
       "    </tr>\n",
       "    <tr>\n",
       "      <th>4</th>\n",
       "      <td>12358</td>\n",
       "      <td>149.000000</td>\n",
       "    </tr>\n",
       "  </tbody>\n",
       "</table>\n",
       "</div>"
      ],
      "text/plain": [
       "   CustomerID  AvgRecencyDays\n",
       "0       12347       60.833333\n",
       "1       12348       94.333333\n",
       "2       12352       43.333333\n",
       "3       12356      151.500000\n",
       "4       12358      149.000000"
      ]
     },
     "execution_count": 64,
     "metadata": {},
     "output_type": "execute_result"
    }
   ],
   "source": [
    "df_aux = df3[['CustomerID','InvoiceDate']].drop_duplicates().sort_values(['CustomerID','InvoiceDate'])\n",
    "df_aux['NextCustomerID'] = df_aux['CustomerID'].shift()\n",
    "df_aux['LastDate'] = df_aux['InvoiceDate'].shift()\n",
    "\n",
    "df_aux['AvgRecencyDays'] = df_aux.apply(lambda x: (x['InvoiceDate'] - x['LastDate']).days if x['CustomerID'] == x['NextCustomerID'] else np.nan, axis=1)\n",
    "\n",
    "df_aux = df_aux.drop(['InvoiceDate','NextCustomerID','LastDate'],axis=1).dropna()\n",
    "df_rd = df_aux.groupby('CustomerID').mean().reset_index()\n",
    "df_rd.head()"
   ]
  },
  {
   "cell_type": "markdown",
   "id": "aefe6989",
   "metadata": {},
   "source": [
    "### 3.1.10 FREQUENCY PURCHASE"
   ]
  },
  {
   "cell_type": "code",
   "execution_count": 65,
   "id": "9568c210",
   "metadata": {
    "ExecuteTime": {
     "end_time": "2022-10-25T22:57:11.583568Z",
     "start_time": "2022-10-25T22:57:10.315013Z"
    }
   },
   "outputs": [],
   "source": [
    "df_aux = (df3_purchase[['CustomerID','InvoiceNo','InvoiceDate']].drop_duplicates()\n",
    "                                                                .groupby('CustomerID')\n",
    "                                                                .agg(max_=('InvoiceDate','max'),\n",
    "                                                                     min_=('InvoiceDate','min'),\n",
    "                                                                     days_=('InvoiceDate',lambda x: ((x.max()-x.min()).days) + 1),\n",
    "                                                                     buy_=('InvoiceNo','count'))).reset_index()\n",
    "\n",
    "df_aux['Frequency'] = df_aux[['buy_','days_']].apply(lambda x: x['buy_']/x['days_'] if x['days_'] != 0 else 0, axis=1)\n",
    "df_f = df_aux[['CustomerID','Frequency']]"
   ]
  },
  {
   "cell_type": "markdown",
   "id": "e238d521",
   "metadata": {},
   "source": [
    "### 3.1.11 MERGING NEW FEATURES"
   ]
  },
  {
   "cell_type": "code",
   "execution_count": 66,
   "id": "3269aab4",
   "metadata": {
    "ExecuteTime": {
     "end_time": "2022-10-25T22:57:11.771689Z",
     "start_time": "2022-10-25T22:57:11.691228Z"
    }
   },
   "outputs": [
    {
     "data": {
      "text/html": [
       "<div>\n",
       "<style scoped>\n",
       "    .dataframe tbody tr th:only-of-type {\n",
       "        vertical-align: middle;\n",
       "    }\n",
       "\n",
       "    .dataframe tbody tr th {\n",
       "        vertical-align: top;\n",
       "    }\n",
       "\n",
       "    .dataframe thead th {\n",
       "        text-align: right;\n",
       "    }\n",
       "</style>\n",
       "<table border=\"1\" class=\"dataframe\">\n",
       "  <thead>\n",
       "    <tr style=\"text-align: right;\">\n",
       "      <th></th>\n",
       "      <th>CustomerID</th>\n",
       "      <th>GrossRevenue</th>\n",
       "      <th>RecencyDays</th>\n",
       "      <th>InvoiceQty</th>\n",
       "      <th>ItemQty</th>\n",
       "      <th>ProductQty</th>\n",
       "      <th>AvgTicket</th>\n",
       "      <th>Returns</th>\n",
       "      <th>AvgRecencyDays</th>\n",
       "      <th>Frequency</th>\n",
       "      <th>BasketSize</th>\n",
       "      <th>UniqueBasketSize</th>\n",
       "    </tr>\n",
       "  </thead>\n",
       "  <tbody>\n",
       "    <tr>\n",
       "      <th>0</th>\n",
       "      <td>12346</td>\n",
       "      <td>0.00</td>\n",
       "      <td>325.0</td>\n",
       "      <td>1.0</td>\n",
       "      <td>0</td>\n",
       "      <td>1.0</td>\n",
       "      <td>0.000000</td>\n",
       "      <td>74215.0</td>\n",
       "      <td>NaN</td>\n",
       "      <td>1.000000</td>\n",
       "      <td>74215.000000</td>\n",
       "      <td>1.00</td>\n",
       "    </tr>\n",
       "    <tr>\n",
       "      <th>1</th>\n",
       "      <td>12347</td>\n",
       "      <td>4310.00</td>\n",
       "      <td>2.0</td>\n",
       "      <td>7.0</td>\n",
       "      <td>2458</td>\n",
       "      <td>182.0</td>\n",
       "      <td>23.681319</td>\n",
       "      <td>0.0</td>\n",
       "      <td>60.833333</td>\n",
       "      <td>0.019126</td>\n",
       "      <td>351.142857</td>\n",
       "      <td>26.00</td>\n",
       "    </tr>\n",
       "    <tr>\n",
       "      <th>2</th>\n",
       "      <td>12348</td>\n",
       "      <td>1437.24</td>\n",
       "      <td>75.0</td>\n",
       "      <td>4.0</td>\n",
       "      <td>2332</td>\n",
       "      <td>27.0</td>\n",
       "      <td>53.231111</td>\n",
       "      <td>0.0</td>\n",
       "      <td>94.333333</td>\n",
       "      <td>0.014085</td>\n",
       "      <td>583.000000</td>\n",
       "      <td>6.75</td>\n",
       "    </tr>\n",
       "    <tr>\n",
       "      <th>3</th>\n",
       "      <td>12349</td>\n",
       "      <td>1457.55</td>\n",
       "      <td>18.0</td>\n",
       "      <td>1.0</td>\n",
       "      <td>630</td>\n",
       "      <td>72.0</td>\n",
       "      <td>20.243750</td>\n",
       "      <td>0.0</td>\n",
       "      <td>NaN</td>\n",
       "      <td>1.000000</td>\n",
       "      <td>630.000000</td>\n",
       "      <td>72.00</td>\n",
       "    </tr>\n",
       "    <tr>\n",
       "      <th>4</th>\n",
       "      <td>12350</td>\n",
       "      <td>294.40</td>\n",
       "      <td>310.0</td>\n",
       "      <td>1.0</td>\n",
       "      <td>196</td>\n",
       "      <td>16.0</td>\n",
       "      <td>18.400000</td>\n",
       "      <td>0.0</td>\n",
       "      <td>NaN</td>\n",
       "      <td>1.000000</td>\n",
       "      <td>196.000000</td>\n",
       "      <td>16.00</td>\n",
       "    </tr>\n",
       "  </tbody>\n",
       "</table>\n",
       "</div>"
      ],
      "text/plain": [
       "   CustomerID  GrossRevenue  RecencyDays  InvoiceQty  ItemQty  ProductQty  AvgTicket  Returns  AvgRecencyDays  Frequency    BasketSize  UniqueBasketSize\n",
       "0       12346          0.00        325.0         1.0        0         1.0   0.000000  74215.0             NaN   1.000000  74215.000000              1.00\n",
       "1       12347       4310.00          2.0         7.0     2458       182.0  23.681319      0.0       60.833333   0.019126    351.142857             26.00\n",
       "2       12348       1437.24         75.0         4.0     2332        27.0  53.231111      0.0       94.333333   0.014085    583.000000              6.75\n",
       "3       12349       1457.55         18.0         1.0      630        72.0  20.243750      0.0             NaN   1.000000    630.000000             72.00\n",
       "4       12350        294.40        310.0         1.0      196        16.0  18.400000      0.0             NaN   1.000000    196.000000             16.00"
      ]
     },
     "execution_count": 66,
     "metadata": {},
     "output_type": "execute_result"
    }
   ],
   "source": [
    "df_ref = pd.merge(df_m,df_r,on='CustomerID',how='left')\n",
    "df_ref = pd.merge(df_ref,df_q,on='CustomerID',how='left')\n",
    "df_ref = pd.merge(df_ref,df_qi,on='CustomerID',how='left')\n",
    "df_ref = pd.merge(df_ref,df_qp,on='CustomerID',how='left')\n",
    "df_ref = pd.merge(df_ref,df_at,on='CustomerID',how='left')\n",
    "df_ref = pd.merge(df_ref,df3_returns,on='CustomerID',how='left')\n",
    "df_ref = pd.merge(df_ref,df_rd,on='CustomerID',how='left')\n",
    "df_ref = pd.merge(df_ref,df_f,on='CustomerID',how='left')\n",
    "df_ref = pd.merge(df_ref,df_bs,on='CustomerID',how='left')\n",
    "df_ref = pd.merge(df_ref,df_ubs,on='CustomerID',how='left')\n",
    "df_ref['Returns'] = df_ref['Returns'].fillna(value=0)\n",
    "df_ref['Frequency'] = df_ref['Frequency'].fillna(value=0)\n",
    "df_ref.head()"
   ]
  },
  {
   "cell_type": "code",
   "execution_count": 67,
   "id": "f24ab27a",
   "metadata": {
    "ExecuteTime": {
     "end_time": "2022-10-25T22:57:18.767424Z",
     "start_time": "2022-10-25T22:57:18.742066Z"
    }
   },
   "outputs": [
    {
     "data": {
      "text/plain": [
       "CustomerID             0\n",
       "GrossRevenue           0\n",
       "RecencyDays           91\n",
       "InvoiceQty            91\n",
       "ItemQty                0\n",
       "ProductQty            91\n",
       "AvgTicket              0\n",
       "Returns                0\n",
       "AvgRecencyDays      2816\n",
       "Frequency              0\n",
       "BasketSize            91\n",
       "UniqueBasketSize      91\n",
       "dtype: int64"
      ]
     },
     "execution_count": 67,
     "metadata": {},
     "output_type": "execute_result"
    }
   ],
   "source": [
    "df_ref.isna().sum()"
   ]
  },
  {
   "cell_type": "markdown",
   "id": "4d8a4a62",
   "metadata": {},
   "source": [
    "# 4.0 EXPLORATORY DATA ANALYSIS"
   ]
  },
  {
   "cell_type": "code",
   "execution_count": 39,
   "id": "b44030dc",
   "metadata": {
    "ExecuteTime": {
     "end_time": "2022-10-25T21:49:12.446807Z",
     "start_time": "2022-10-25T21:49:12.395185Z"
    }
   },
   "outputs": [
    {
     "data": {
      "text/plain": [
       "CustomerID          0\n",
       "GrossRevenue        0\n",
       "RecencyDays         0\n",
       "InvoiceQty          0\n",
       "ItemQty             0\n",
       "ProductQty          0\n",
       "AvgTicket           0\n",
       "Returns             0\n",
       "AvgRecencyDays      0\n",
       "Frequency           0\n",
       "BasketSize          0\n",
       "UniqueBasketSize    0\n",
       "dtype: int64"
      ]
     },
     "execution_count": 39,
     "metadata": {},
     "output_type": "execute_result"
    }
   ],
   "source": [
    "df4 = df_ref.dropna()\n",
    "df4 = df4.reset_index(drop=True)\n",
    "df4.isna().sum()"
   ]
  },
  {
   "cell_type": "markdown",
   "id": "a999c8ff",
   "metadata": {},
   "source": [
    "### 4.1 UNIVARIATE ANALYSIS"
   ]
  },
  {
   "cell_type": "code",
   "execution_count": 40,
   "id": "1eb7a86e",
   "metadata": {
    "ExecuteTime": {
     "end_time": "2022-10-25T21:50:45.325293Z",
     "start_time": "2022-10-25T21:49:12.446807Z"
    },
    "scrolled": false
   },
   "outputs": [
    {
     "data": {
      "application/vnd.jupyter.widget-view+json": {
       "model_id": "58d5d51c2fa546de9ac918b791fedc16",
       "version_major": 2,
       "version_minor": 0
      },
      "text/plain": [
       "Summarize dataset:   0%|          | 0/5 [00:00<?, ?it/s]"
      ]
     },
     "metadata": {},
     "output_type": "display_data"
    },
    {
     "data": {
      "application/vnd.jupyter.widget-view+json": {
       "model_id": "74f2c0f7c7a64667b9670f12b1276059",
       "version_major": 2,
       "version_minor": 0
      },
      "text/plain": [
       "Generate report structure:   0%|          | 0/1 [00:00<?, ?it/s]"
      ]
     },
     "metadata": {},
     "output_type": "display_data"
    },
    {
     "data": {
      "application/vnd.jupyter.widget-view+json": {
       "model_id": "d666f97f4935475ab3b8ecdbed161c3f",
       "version_major": 2,
       "version_minor": 0
      },
      "text/plain": [
       "Render HTML:   0%|          | 0/1 [00:00<?, ?it/s]"
      ]
     },
     "metadata": {},
     "output_type": "display_data"
    },
    {
     "data": {
      "application/vnd.jupyter.widget-view+json": {
       "model_id": "1af24e3248034d96809b5d252a082a9f",
       "version_major": 2,
       "version_minor": 0
      },
      "text/plain": [
       "Export report to file:   0%|          | 0/1 [00:00<?, ?it/s]"
      ]
     },
     "metadata": {},
     "output_type": "display_data"
    }
   ],
   "source": [
    "profile = ProfileReport(df4)\n",
    "profile.to_file('output.html')"
   ]
  },
  {
   "cell_type": "markdown",
   "id": "bf016693",
   "metadata": {},
   "source": [
    "### 4.2 BIVARIATE ANALYSIS"
   ]
  },
  {
   "cell_type": "code",
   "execution_count": null,
   "id": "c61d1b07",
   "metadata": {},
   "outputs": [],
   "source": []
  },
  {
   "cell_type": "markdown",
   "id": "81697ecc",
   "metadata": {
    "ExecuteTime": {
     "end_time": "2022-10-05T23:54:15.678768Z",
     "start_time": "2022-10-05T23:54:15.658572Z"
    },
    "heading_collapsed": true
   },
   "source": [
    "# 5.0 DATA PREPARATION"
   ]
  },
  {
   "cell_type": "code",
   "execution_count": 41,
   "id": "a5ad9a1c",
   "metadata": {
    "ExecuteTime": {
     "end_time": "2022-10-25T21:50:45.352361Z",
     "start_time": "2022-10-25T21:50:45.331116Z"
    },
    "hidden": true
   },
   "outputs": [],
   "source": [
    "df5 = df4.copy()"
   ]
  },
  {
   "cell_type": "code",
   "execution_count": 42,
   "id": "883d9a26",
   "metadata": {
    "ExecuteTime": {
     "end_time": "2022-10-25T21:50:53.307602Z",
     "start_time": "2022-10-25T21:50:45.360636Z"
    },
    "hidden": true
   },
   "outputs": [
    {
     "ename": "KeyError",
     "evalue": "\"None of [Index(['InvoiceNo'], dtype='object')] are in the [columns]\"",
     "output_type": "error",
     "traceback": [
      "\u001b[1;31m---------------------------------------------------------------------------\u001b[0m",
      "\u001b[1;31mKeyError\u001b[0m                                  Traceback (most recent call last)",
      "Input \u001b[1;32mIn [42]\u001b[0m, in \u001b[0;36m<cell line: 4>\u001b[1;34m()\u001b[0m\n\u001b[0;32m      2\u001b[0m df5[\u001b[38;5;124m'\u001b[39m\u001b[38;5;124mGrossRevenue\u001b[39m\u001b[38;5;124m'\u001b[39m] \u001b[38;5;241m=\u001b[39m ss\u001b[38;5;241m.\u001b[39mfit_transform(df5[[\u001b[38;5;124m'\u001b[39m\u001b[38;5;124mGrossRevenue\u001b[39m\u001b[38;5;124m'\u001b[39m]])\n\u001b[0;32m      3\u001b[0m df5[\u001b[38;5;124m'\u001b[39m\u001b[38;5;124mRecencyDays\u001b[39m\u001b[38;5;124m'\u001b[39m] \u001b[38;5;241m=\u001b[39m ss\u001b[38;5;241m.\u001b[39mfit_transform(df5[[\u001b[38;5;124m'\u001b[39m\u001b[38;5;124mRecencyDays\u001b[39m\u001b[38;5;124m'\u001b[39m]])\n\u001b[1;32m----> 4\u001b[0m df5[\u001b[38;5;124m'\u001b[39m\u001b[38;5;124mInvoiceNo\u001b[39m\u001b[38;5;124m'\u001b[39m] \u001b[38;5;241m=\u001b[39m ss\u001b[38;5;241m.\u001b[39mfit_transform(\u001b[43mdf5\u001b[49m\u001b[43m[\u001b[49m\u001b[43m[\u001b[49m\u001b[38;5;124;43m'\u001b[39;49m\u001b[38;5;124;43mInvoiceNo\u001b[39;49m\u001b[38;5;124;43m'\u001b[39;49m\u001b[43m]\u001b[49m\u001b[43m]\u001b[49m)\n\u001b[0;32m      5\u001b[0m df5[\u001b[38;5;124m'\u001b[39m\u001b[38;5;124mAvgTicket\u001b[39m\u001b[38;5;124m'\u001b[39m] \u001b[38;5;241m=\u001b[39m ss\u001b[38;5;241m.\u001b[39mfit_transform(df5[[\u001b[38;5;124m'\u001b[39m\u001b[38;5;124mAvgTicket\u001b[39m\u001b[38;5;124m'\u001b[39m]])\n\u001b[0;32m      6\u001b[0m df5[\u001b[38;5;124m'\u001b[39m\u001b[38;5;124mReturns\u001b[39m\u001b[38;5;124m'\u001b[39m] \u001b[38;5;241m=\u001b[39m ss\u001b[38;5;241m.\u001b[39mfit_transform(df5[[\u001b[38;5;124m'\u001b[39m\u001b[38;5;124mReturns\u001b[39m\u001b[38;5;124m'\u001b[39m]])\n",
      "File \u001b[1;32m~\\anaconda3\\envs\\insiders\\lib\\site-packages\\pandas\\core\\frame.py:3810\u001b[0m, in \u001b[0;36mDataFrame.__getitem__\u001b[1;34m(self, key)\u001b[0m\n\u001b[0;32m   3808\u001b[0m     \u001b[38;5;28;01mif\u001b[39;00m is_iterator(key):\n\u001b[0;32m   3809\u001b[0m         key \u001b[38;5;241m=\u001b[39m \u001b[38;5;28mlist\u001b[39m(key)\n\u001b[1;32m-> 3810\u001b[0m     indexer \u001b[38;5;241m=\u001b[39m \u001b[38;5;28;43mself\u001b[39;49m\u001b[38;5;241;43m.\u001b[39;49m\u001b[43mcolumns\u001b[49m\u001b[38;5;241;43m.\u001b[39;49m\u001b[43m_get_indexer_strict\u001b[49m\u001b[43m(\u001b[49m\u001b[43mkey\u001b[49m\u001b[43m,\u001b[49m\u001b[43m \u001b[49m\u001b[38;5;124;43m\"\u001b[39;49m\u001b[38;5;124;43mcolumns\u001b[39;49m\u001b[38;5;124;43m\"\u001b[39;49m\u001b[43m)\u001b[49m[\u001b[38;5;241m1\u001b[39m]\n\u001b[0;32m   3812\u001b[0m \u001b[38;5;66;03m# take() does not accept boolean indexers\u001b[39;00m\n\u001b[0;32m   3813\u001b[0m \u001b[38;5;28;01mif\u001b[39;00m \u001b[38;5;28mgetattr\u001b[39m(indexer, \u001b[38;5;124m\"\u001b[39m\u001b[38;5;124mdtype\u001b[39m\u001b[38;5;124m\"\u001b[39m, \u001b[38;5;28;01mNone\u001b[39;00m) \u001b[38;5;241m==\u001b[39m \u001b[38;5;28mbool\u001b[39m:\n",
      "File \u001b[1;32m~\\anaconda3\\envs\\insiders\\lib\\site-packages\\pandas\\core\\indexes\\base.py:6111\u001b[0m, in \u001b[0;36mIndex._get_indexer_strict\u001b[1;34m(self, key, axis_name)\u001b[0m\n\u001b[0;32m   6108\u001b[0m \u001b[38;5;28;01melse\u001b[39;00m:\n\u001b[0;32m   6109\u001b[0m     keyarr, indexer, new_indexer \u001b[38;5;241m=\u001b[39m \u001b[38;5;28mself\u001b[39m\u001b[38;5;241m.\u001b[39m_reindex_non_unique(keyarr)\n\u001b[1;32m-> 6111\u001b[0m \u001b[38;5;28;43mself\u001b[39;49m\u001b[38;5;241;43m.\u001b[39;49m\u001b[43m_raise_if_missing\u001b[49m\u001b[43m(\u001b[49m\u001b[43mkeyarr\u001b[49m\u001b[43m,\u001b[49m\u001b[43m \u001b[49m\u001b[43mindexer\u001b[49m\u001b[43m,\u001b[49m\u001b[43m \u001b[49m\u001b[43maxis_name\u001b[49m\u001b[43m)\u001b[49m\n\u001b[0;32m   6113\u001b[0m keyarr \u001b[38;5;241m=\u001b[39m \u001b[38;5;28mself\u001b[39m\u001b[38;5;241m.\u001b[39mtake(indexer)\n\u001b[0;32m   6114\u001b[0m \u001b[38;5;28;01mif\u001b[39;00m \u001b[38;5;28misinstance\u001b[39m(key, Index):\n\u001b[0;32m   6115\u001b[0m     \u001b[38;5;66;03m# GH 42790 - Preserve name from an Index\u001b[39;00m\n",
      "File \u001b[1;32m~\\anaconda3\\envs\\insiders\\lib\\site-packages\\pandas\\core\\indexes\\base.py:6171\u001b[0m, in \u001b[0;36mIndex._raise_if_missing\u001b[1;34m(self, key, indexer, axis_name)\u001b[0m\n\u001b[0;32m   6169\u001b[0m     \u001b[38;5;28;01mif\u001b[39;00m use_interval_msg:\n\u001b[0;32m   6170\u001b[0m         key \u001b[38;5;241m=\u001b[39m \u001b[38;5;28mlist\u001b[39m(key)\n\u001b[1;32m-> 6171\u001b[0m     \u001b[38;5;28;01mraise\u001b[39;00m \u001b[38;5;167;01mKeyError\u001b[39;00m(\u001b[38;5;124mf\u001b[39m\u001b[38;5;124m\"\u001b[39m\u001b[38;5;124mNone of [\u001b[39m\u001b[38;5;132;01m{\u001b[39;00mkey\u001b[38;5;132;01m}\u001b[39;00m\u001b[38;5;124m] are in the [\u001b[39m\u001b[38;5;132;01m{\u001b[39;00maxis_name\u001b[38;5;132;01m}\u001b[39;00m\u001b[38;5;124m]\u001b[39m\u001b[38;5;124m\"\u001b[39m)\n\u001b[0;32m   6173\u001b[0m not_found \u001b[38;5;241m=\u001b[39m \u001b[38;5;28mlist\u001b[39m(ensure_index(key)[missing_mask\u001b[38;5;241m.\u001b[39mnonzero()[\u001b[38;5;241m0\u001b[39m]]\u001b[38;5;241m.\u001b[39munique())\n\u001b[0;32m   6174\u001b[0m \u001b[38;5;28;01mraise\u001b[39;00m \u001b[38;5;167;01mKeyError\u001b[39;00m(\u001b[38;5;124mf\u001b[39m\u001b[38;5;124m\"\u001b[39m\u001b[38;5;132;01m{\u001b[39;00mnot_found\u001b[38;5;132;01m}\u001b[39;00m\u001b[38;5;124m not in index\u001b[39m\u001b[38;5;124m\"\u001b[39m)\n",
      "\u001b[1;31mKeyError\u001b[0m: \"None of [Index(['InvoiceNo'], dtype='object')] are in the [columns]\""
     ]
    }
   ],
   "source": [
    "ss = pp.StandardScaler()\n",
    "df5['GrossRevenue'] = ss.fit_transform(df5[['GrossRevenue']])\n",
    "df5['RecencyDays'] = ss.fit_transform(df5[['RecencyDays']])\n",
    "df5['InvoiceNo'] = ss.fit_transform(df5[['InvoiceNo']])\n",
    "df5['AvgTicket'] = ss.fit_transform(df5[['AvgTicket']])\n",
    "df5['Returns'] = ss.fit_transform(df5[['Returns']])\n",
    "df5.head()"
   ]
  },
  {
   "cell_type": "markdown",
   "id": "4891487b",
   "metadata": {
    "heading_collapsed": true
   },
   "source": [
    "# 6.0 FEATURE SELECTION"
   ]
  },
  {
   "cell_type": "code",
   "execution_count": null,
   "id": "82d880a1",
   "metadata": {
    "ExecuteTime": {
     "end_time": "2022-10-25T21:50:53.309634Z",
     "start_time": "2022-10-25T21:50:53.309634Z"
    },
    "hidden": true
   },
   "outputs": [],
   "source": [
    "df6 = df5.copy()"
   ]
  },
  {
   "cell_type": "markdown",
   "id": "49d44e1d",
   "metadata": {
    "heading_collapsed": true
   },
   "source": [
    "# 7.0 HYPERPARAMETER FINE TUNING"
   ]
  },
  {
   "cell_type": "code",
   "execution_count": null,
   "id": "90b844f0",
   "metadata": {
    "ExecuteTime": {
     "end_time": "2022-10-25T21:50:53.317165Z",
     "start_time": "2022-10-25T21:50:53.317165Z"
    },
    "hidden": true
   },
   "outputs": [],
   "source": [
    "X = df6.drop(columns=['CustomerID'])\n",
    "clusters = [2,3,4,5,6,7]\n",
    "X.head()"
   ]
  },
  {
   "cell_type": "markdown",
   "id": "be03830f",
   "metadata": {
    "hidden": true
   },
   "source": [
    "## 7.1 WITHIN-CLUSTER SUM OF SQUARES (WSS)"
   ]
  },
  {
   "cell_type": "code",
   "execution_count": null,
   "id": "19e9cebd",
   "metadata": {
    "ExecuteTime": {
     "end_time": "2022-10-25T21:50:53.320577Z",
     "start_time": "2022-10-25T21:50:53.320577Z"
    },
    "hidden": true
   },
   "outputs": [],
   "source": [
    "kmeans = KElbowVisualizer(c.KMeans(),k=clusters,timings=False)\n",
    "kmeans.fit(X)\n",
    "kmeans.show();"
   ]
  },
  {
   "cell_type": "markdown",
   "id": "e9ceb0ff",
   "metadata": {
    "hidden": true
   },
   "source": [
    "## 7.2 SILHOUETTE SCORE"
   ]
  },
  {
   "cell_type": "code",
   "execution_count": null,
   "id": "acc96eff",
   "metadata": {
    "ExecuteTime": {
     "end_time": "2022-10-25T21:50:53.328148Z",
     "start_time": "2022-10-25T21:50:53.328148Z"
    },
    "hidden": true
   },
   "outputs": [],
   "source": [
    "kmeans = KElbowVisualizer(c.KMeans(),k=clusters, metric='silhouette',timings=False)\n",
    "kmeans.fit(X)\n",
    "kmeans.show();"
   ]
  },
  {
   "cell_type": "markdown",
   "id": "19e77e74",
   "metadata": {
    "ExecuteTime": {
     "end_time": "2022-10-03T22:12:06.929661Z",
     "start_time": "2022-10-03T22:12:06.919585Z"
    },
    "heading_collapsed": true,
    "hidden": true
   },
   "source": [
    "## 7.3 SILHOUETTE ANALYSIS"
   ]
  },
  {
   "cell_type": "code",
   "execution_count": null,
   "id": "14e66e6b",
   "metadata": {
    "ExecuteTime": {
     "end_time": "2022-10-25T21:50:53.335198Z",
     "start_time": "2022-10-25T21:50:53.335198Z"
    },
    "hidden": true
   },
   "outputs": [],
   "source": [
    "fig,ax = plt.subplots(3,2,figsize=(25,18))\n",
    "\n",
    "for k in clusters:\n",
    "    km = c.KMeans(n_clusters=k,init='random',n_init=10,max_iter=100,random_state=42)\n",
    "    q, mod = divmod(k,2)    \n",
    "    visualizer = SilhouetteVisualizer(km,colors='yellowbrick',ax=ax[q-1][mod])\n",
    "    visualizer.fit(X)\n",
    "    visualizer.finalize()"
   ]
  },
  {
   "cell_type": "markdown",
   "id": "082e0ffa",
   "metadata": {
    "heading_collapsed": true
   },
   "source": [
    "# 8.0 MODEL TRAINING"
   ]
  },
  {
   "cell_type": "code",
   "execution_count": null,
   "id": "7406cf91",
   "metadata": {
    "ExecuteTime": {
     "end_time": "2022-10-25T21:50:53.339113Z",
     "start_time": "2022-10-25T21:50:53.339113Z"
    },
    "hidden": true
   },
   "outputs": [],
   "source": [
    "k = 4\n",
    "kmeans = c.KMeans(init='random',n_clusters=k,max_iter=300,random_state=42)\n",
    "preds = kmeans.fit_predict(X)\n",
    "labels = kmeans.labels_"
   ]
  },
  {
   "cell_type": "code",
   "execution_count": null,
   "id": "b127e9d1",
   "metadata": {
    "ExecuteTime": {
     "end_time": "2022-10-25T21:50:53.342064Z",
     "start_time": "2022-10-25T21:50:53.342064Z"
    },
    "hidden": true
   },
   "outputs": [],
   "source": [
    "print('WSS value:{}'.format(kmeans.inertia_))\n",
    "print('SS value:{}'.format(met.silhouette_score(X,preds)))"
   ]
  },
  {
   "cell_type": "markdown",
   "id": "3b13e3f6",
   "metadata": {},
   "source": [
    "# 9.0 CLUSTER ANALYSIS"
   ]
  },
  {
   "cell_type": "code",
   "execution_count": null,
   "id": "3596ded0",
   "metadata": {
    "ExecuteTime": {
     "end_time": "2022-10-25T21:50:53.347251Z",
     "start_time": "2022-10-25T21:50:53.347251Z"
    }
   },
   "outputs": [],
   "source": [
    "df9 = df4.copy()\n",
    "df9['cluster'] = labels\n",
    "df9.head()"
   ]
  },
  {
   "cell_type": "markdown",
   "id": "481a25d4",
   "metadata": {},
   "source": [
    "## 9.1 VISUALIZATION INSPECTION"
   ]
  },
  {
   "cell_type": "code",
   "execution_count": null,
   "id": "ac8bf11b",
   "metadata": {
    "ExecuteTime": {
     "end_time": "2022-10-25T21:50:53.352374Z",
     "start_time": "2022-10-25T21:50:53.352374Z"
    },
    "scrolled": false
   },
   "outputs": [],
   "source": [
    "visualizer = SilhouetteVisualizer(kmeans,colors='yellowbrick')\n",
    "visualizer.fit(X)\n",
    "visualizer.finalize()"
   ]
  },
  {
   "cell_type": "markdown",
   "id": "a11e5d33",
   "metadata": {},
   "source": [
    "## 9.2 2D PLOT"
   ]
  },
  {
   "cell_type": "code",
   "execution_count": null,
   "id": "39ea25df",
   "metadata": {
    "ExecuteTime": {
     "end_time": "2022-10-25T21:50:53.356427Z",
     "start_time": "2022-10-25T21:50:53.356427Z"
    }
   },
   "outputs": [],
   "source": [
    "df_viz = df9.drop(columns=['CustomerID'])\n",
    "#sns.pairplot(df_viz,hue='cluster');"
   ]
  },
  {
   "cell_type": "markdown",
   "id": "40c635e2",
   "metadata": {},
   "source": [
    "## 9.3 UMAP"
   ]
  },
  {
   "cell_type": "code",
   "execution_count": null,
   "id": "ce92de3f",
   "metadata": {
    "ExecuteTime": {
     "end_time": "2022-10-25T21:50:53.360526Z",
     "start_time": "2022-10-25T21:50:53.360526Z"
    }
   },
   "outputs": [],
   "source": [
    "reducer = umap.UMAP(n_neighbors=20, random_state=42)\n",
    "embedding = reducer.fit_transform(X)\n",
    "df_viz['embedding_x'] = embedding[:,0]\n",
    "df_viz['embedding_y'] = embedding[:,1]\n",
    "\n",
    "sns.scatterplot(x='embedding_x',y='embedding_y',hue='cluster',palette=sns.color_palette('hls',n_colors=len(df_viz['cluster'].unique())), data=df_viz)"
   ]
  },
  {
   "cell_type": "markdown",
   "id": "cae29d71",
   "metadata": {},
   "source": [
    "## 9.4 CLUSTER PROFILE"
   ]
  },
  {
   "cell_type": "code",
   "execution_count": null,
   "id": "9bac3423",
   "metadata": {
    "ExecuteTime": {
     "end_time": "2022-10-25T21:50:53.373518Z",
     "start_time": "2022-10-25T21:50:53.373518Z"
    }
   },
   "outputs": [],
   "source": [
    "#Qty per cluster\n",
    "df_cluster = df9[['CustomerID','cluster']].groupby('cluster').count().reset_index()\n",
    "df_cluster['perc_customer'] = 100*(df_cluster['CustomerID']/df_cluster['CustomerID'].sum())\n",
    "\n",
    "#Avg gross rev\n",
    "df_avg_grossrev = df9[['GrossRevenue','cluster']].groupby('cluster').mean().reset_index()\n",
    "df_cluster = pd.merge(df_cluster,df_avg_grossrev,how='inner',on='cluster')\n",
    "\n",
    "#Avg recency days\n",
    "df_avg_rec = df9[['RecencyDays','cluster']].groupby('cluster').mean().reset_index()\n",
    "df_cluster = pd.merge(df_cluster,df_avg_rec,how='inner',on='cluster')\n",
    "\n",
    "#Avg invoice num\n",
    "df_avg_invnum = df9[['InvoiceNo','cluster']].groupby('cluster').mean().reset_index()\n",
    "df_cluster = pd.merge(df_cluster,df_avg_invnum,how='inner',on='cluster')\n",
    "\n",
    "#Avg ticket\n",
    "df_avg_ticket = df9[['AvgTicket','cluster']].groupby('cluster').mean().reset_index()\n",
    "df_cluster = pd.merge(df_cluster,df_avg_ticket,how='inner',on='cluster')\n",
    "\n",
    "df_cluster.drop(columns=['CustomerID'])"
   ]
  },
  {
   "cell_type": "code",
   "execution_count": null,
   "id": "45c1d6d2",
   "metadata": {},
   "outputs": [],
   "source": []
  }
 ],
 "metadata": {
  "kernelspec": {
   "display_name": "Python 3 (ipykernel)",
   "language": "python",
   "name": "python3"
  },
  "language_info": {
   "codemirror_mode": {
    "name": "ipython",
    "version": 3
   },
   "file_extension": ".py",
   "mimetype": "text/x-python",
   "name": "python",
   "nbconvert_exporter": "python",
   "pygments_lexer": "ipython3",
   "version": "3.9.13"
  }
 },
 "nbformat": 4,
 "nbformat_minor": 5
}
